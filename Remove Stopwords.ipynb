{
 "cells": [
  {
   "cell_type": "code",
   "execution_count": 3,
   "metadata": {},
   "outputs": [],
   "source": [
    "#!pip install nltk\n",
    "\n",
    "import nltk\n",
    "import warnings\n",
    "warnings.filterwarnings('ignore')"
   ]
  },
  {
   "cell_type": "code",
   "execution_count": 2,
   "metadata": {},
   "outputs": [],
   "source": [
    "from nltk import word_tokenize"
   ]
  },
  {
   "cell_type": "code",
   "execution_count": 4,
   "metadata": {},
   "outputs": [],
   "source": [
    "Text = \"\"\" During the II world war in 1941,  it was a difficult time for our family at Rameswaram. I was a ten \n",
    "year old boy then.  War had almost  reached our doors of Rameswaram since the cloud of war had already reached Colombo. \n",
    "Almost everything was a rarity from food articles to anything.  Ours was a large joint family. The size of our family was five sons and five daughters and three of whom had families \"\"\""
   ]
  },
  {
   "cell_type": "code",
   "execution_count": 5,
   "metadata": {},
   "outputs": [],
   "source": [
    "tokenize_word = nltk.word_tokenize(Text)"
   ]
  },
  {
   "cell_type": "code",
   "execution_count": 6,
   "metadata": {},
   "outputs": [
    {
     "data": {
      "text/plain": [
       "['During',\n",
       " 'the',\n",
       " 'II',\n",
       " 'world',\n",
       " 'war',\n",
       " 'in',\n",
       " '1941',\n",
       " ',',\n",
       " 'it',\n",
       " 'was',\n",
       " 'a',\n",
       " 'difficult',\n",
       " 'time',\n",
       " 'for',\n",
       " 'our',\n",
       " 'family',\n",
       " 'at',\n",
       " 'Rameswaram',\n",
       " '.',\n",
       " 'I',\n",
       " 'was',\n",
       " 'a',\n",
       " 'ten',\n",
       " 'year',\n",
       " 'old',\n",
       " 'boy',\n",
       " 'then',\n",
       " '.',\n",
       " 'War',\n",
       " 'had',\n",
       " 'almost',\n",
       " 'reached',\n",
       " 'our',\n",
       " 'doors',\n",
       " 'of',\n",
       " 'Rameswaram',\n",
       " 'since',\n",
       " 'the',\n",
       " 'cloud',\n",
       " 'of',\n",
       " 'war',\n",
       " 'had',\n",
       " 'already',\n",
       " 'reached',\n",
       " 'Colombo',\n",
       " '.',\n",
       " 'Almost',\n",
       " 'everything',\n",
       " 'was',\n",
       " 'a',\n",
       " 'rarity',\n",
       " 'from',\n",
       " 'food',\n",
       " 'articles',\n",
       " 'to',\n",
       " 'anything',\n",
       " '.',\n",
       " 'Ours',\n",
       " 'was',\n",
       " 'a',\n",
       " 'large',\n",
       " 'joint',\n",
       " 'family',\n",
       " '.',\n",
       " 'The',\n",
       " 'size',\n",
       " 'of',\n",
       " 'our',\n",
       " 'family',\n",
       " 'was',\n",
       " 'five',\n",
       " 'sons',\n",
       " 'and',\n",
       " 'five',\n",
       " 'daughters',\n",
       " 'and',\n",
       " 'three',\n",
       " 'of',\n",
       " 'whom',\n",
       " 'had',\n",
       " 'families']"
      ]
     },
     "execution_count": 6,
     "metadata": {},
     "output_type": "execute_result"
    }
   ],
   "source": [
    "tokenize_word"
   ]
  },
  {
   "cell_type": "code",
   "execution_count": 14,
   "metadata": {},
   "outputs": [],
   "source": [
    "from nltk.corpus import stopwords"
   ]
  },
  {
   "cell_type": "code",
   "execution_count": 16,
   "metadata": {},
   "outputs": [],
   "source": [
    "stop_words = set ((stopwords.words('english')))"
   ]
  },
  {
   "cell_type": "code",
   "execution_count": 17,
   "metadata": {},
   "outputs": [
    {
     "name": "stdout",
     "output_type": "stream",
     "text": [
      "{'ve', 'during', 'yours', \"don't\", 'how', 'd', 'mightn', \"mightn't\", 'do', 'weren', \"shouldn't\", \"needn't\", 'won', 'below', 'm', 'few', 'shan', 'does', 's', 'is', 'there', 'himself', \"haven't\", 'them', \"wouldn't\", 'off', 'he', 'don', 'all', 'no', 'hers', 'a', 'yourselves', 'she', 'if', 'are', 'why', 'very', 'those', 'not', 'couldn', 'the', \"mustn't\", 'me', \"that'll\", 'been', 'these', 'here', 'through', 'being', 'whom', 'has', 'again', 'needn', 'then', 'down', 'y', \"doesn't\", 'so', 't', 'doesn', 'ourselves', 'you', 'mustn', 'am', 'now', 'any', 'which', 'herself', 'did', 'each', 'isn', 'ma', 'shouldn', 'him', 'that', 'of', \"you've\", 'have', 'had', 'who', 'ain', 'once', 'be', 'they', 'same', 'can', 'at', 'both', 'should', 'our', 'above', \"you'd\", 'from', 'more', 'for', 'his', \"shan't\", 'out', 'were', 'theirs', 'your', 'when', \"weren't\", 'after', 'o', 'into', 'because', 'only', 'while', 'own', 'll', \"wasn't\", 'itself', \"should've\", 'we', \"you're\", 'up', 'between', 'her', 'haven', 're', 'aren', 'until', 'in', 'wouldn', 'it', 'under', 'hasn', 'or', 'what', 'some', 'i', 'didn', 'where', 'such', \"couldn't\", 'than', \"she's\", 'other', 'most', 'was', \"hasn't\", \"you'll\", 'an', 'hadn', 'will', 'myself', 'and', 'on', 'this', 'nor', 'against', 'themselves', 'by', 'ours', 'their', 'before', 'yourself', 'over', 'my', \"won't\", 'having', 'to', 'about', 'doing', 'as', 'too', 'further', 'its', 'with', \"hadn't\", \"didn't\", 'just', 'wasn', \"aren't\", \"isn't\", 'but', \"it's\"}\n"
     ]
    }
   ],
   "source": [
    "print (stop_words)"
   ]
  },
  {
   "cell_type": "code",
   "execution_count": 11,
   "metadata": {},
   "outputs": [],
   "source": [
    "filtered_sentence = [w for w in tokenize_word if not w.lower() in stop_words]"
   ]
  },
  {
   "cell_type": "code",
   "execution_count": 18,
   "metadata": {},
   "outputs": [],
   "source": [
    "filtered_sentence = []"
   ]
  },
  {
   "cell_type": "code",
   "execution_count": 22,
   "metadata": {},
   "outputs": [],
   "source": [
    "for w in tokenize_word:\n",
    "    if w not in stop_words:\n",
    "        filtered_sentenece.append(w)"
   ]
  },
  {
   "cell_type": "code",
   "execution_count": 23,
   "metadata": {},
   "outputs": [
    {
     "name": "stdout",
     "output_type": "stream",
     "text": [
      "['During', 'II', 'world', 'war', '1941', ',', 'difficult', 'time', 'family', 'Rameswaram', '.', 'I', 'ten', 'year', 'old', 'boy', '.', 'War', 'almost', 'reached', 'doors', 'Rameswaram', 'since', 'cloud', 'war', 'already', 'reached', 'Colombo', '.', 'Almost', 'everything', 'rarity', 'food', 'articles', 'anything', '.', 'Ours', 'large', 'joint', 'family', '.', 'The', 'size', 'family', 'five', 'sons', 'five', 'daughters', 'three', 'families']\n"
     ]
    }
   ],
   "source": [
    "print (filtered_sentence)"
   ]
  },
  {
   "cell_type": "code",
   "execution_count": null,
   "metadata": {},
   "outputs": [],
   "source": []
  }
 ],
 "metadata": {
  "kernelspec": {
   "display_name": "Python 3",
   "language": "python",
   "name": "python3"
  },
  "language_info": {
   "codemirror_mode": {
    "name": "ipython",
    "version": 3
   },
   "file_extension": ".py",
   "mimetype": "text/x-python",
   "name": "python",
   "nbconvert_exporter": "python",
   "pygments_lexer": "ipython3",
   "version": "3.6.5"
  }
 },
 "nbformat": 4,
 "nbformat_minor": 2
}
